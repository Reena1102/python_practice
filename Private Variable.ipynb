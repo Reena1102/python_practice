{
 "cells": [
  {
   "cell_type": "code",
   "execution_count": 70,
   "id": "40205541",
   "metadata": {},
   "outputs": [],
   "source": [
    "class Atm:\n",
    "    \n",
    "    def __init__(self):\n",
    "        \n",
    "        self.pin=\"\"        \n",
    "        self.balance=0       \n",
    "        self.menu()\n",
    "      #  print(id(self))   # if self is obj it means it is stored at a place , find address of self. \n",
    "                          # self address is always same as current object. it means self is current object\n",
    "        \n",
    "    def menu(self):\n",
    "        user_input=input(\"\"\"\n",
    "                    how would u like to proceed?\n",
    "                    1.Enter 1 to create pin\n",
    "                    2.Enter 2 to Deposit\n",
    "                    3.Enter 3 to Withdraw\n",
    "                    4.Enter 4 to check Balance\n",
    "                    5.Enter 5 to Exit\n",
    "        \n",
    "                        \"\"\")\n",
    "        if user_input=='1':\n",
    "            self.create_pin()\n",
    "        elif user_input=='2':\n",
    "            self.deposit()\n",
    "        elif user_input=='3':\n",
    "            self.withdraw()\n",
    "        elif user_input=='4':\n",
    "            self.check_balance()\n",
    "        else:\n",
    "            print(\"bye\")\n",
    "            \n",
    "    def create_pin(self):\n",
    "        self.pin=input(\"Enter your 4 digit pin:\")\n",
    "        print(\"Pin set is successfull\")\n",
    "    def deposit(self):\n",
    "        temp=input(\"enter your pin Number\")\n",
    "        if temp==self.pin:\n",
    "            amount=int(input(\"enter the amount to deposit:\"))\n",
    "            self.balance=self.balance+amount\n",
    "            print(\"Deposit is successful\")\n",
    "        else:\n",
    "            print(\"Invalid Pin\")\n",
    "    def __withdraw(self):                           # this method is made private\n",
    "        temp=input(\"enter your pin Number\")\n",
    "        if temp==self.pin:\n",
    "            amount=int(input(\"enter the amount to Withdraw:\"))\n",
    "            if amount<self.__balance:\n",
    "                self.balance=self.balance-amount\n",
    "                print(\"Withdraw is successful\")\n",
    "            else:\n",
    "                print(\"Insufficient amount\")\n",
    "        else:\n",
    "            print(\"Invalid pin\")\n",
    "            \n",
    "    def check_balance(self):\n",
    "        temp=input(\"enter your pin Number\")\n",
    "        if temp==self.pin:\n",
    "            print(self.balance)\n",
    "        else:\n",
    "            print(\"Invalid Pin\")\n",
    "            \n",
    "        "
   ]
  },
  {
   "cell_type": "code",
   "execution_count": 39,
   "id": "23247f9d",
   "metadata": {},
   "outputs": [
    {
     "name": "stdout",
     "output_type": "stream",
     "text": [
      "\n",
      "                    how would u like to proceed?\n",
      "                    1.Enter 1 to create pin\n",
      "                    2.Enter 2 to Deposit\n",
      "                    3.Enter 3 to Withdraw\n",
      "                    4.Enter 4 to check Balance\n",
      "                    5.Enter 5 to Exit\n",
      "        \n",
      "                        1\n",
      "Enter your 4 digit pin:1234\n",
      "Pin set is successfull\n",
      "enter your pin Number1234\n",
      "enter the amount to deposit:2000\n",
      "Deposit is successful\n",
      "enter your pin Number1234\n",
      "2300\n"
     ]
    }
   ],
   "source": [
    "sbi=Atm()\n",
    "sbi.balance=300    # initial value of balanced is changed from outside\n",
    "sbi.deposit()\n",
    "sbi.check_balance()"
   ]
  },
  {
   "cell_type": "code",
   "execution_count": 8,
   "id": "2cbb5bc2",
   "metadata": {},
   "outputs": [
    {
     "name": "stdout",
     "output_type": "stream",
     "text": [
      "enter your pin Number1234\n",
      "Invalid Pin\n"
     ]
    }
   ],
   "source": [
    "sbi.deposit()"
   ]
  },
  {
   "cell_type": "code",
   "execution_count": 71,
   "id": "bf2643cf",
   "metadata": {},
   "outputs": [],
   "source": [
    "class Atm:\n",
    "    \n",
    "    def __init__(self):\n",
    "        \n",
    "        self.pin=\"\"         \n",
    "        self.balance=0       \n",
    "        self.menu()\n",
    "      #  print(id(self))   # if self is obj it means it is stored at a place , find address of self. \n",
    "                          # self address is always same as current object. it means self is current object\n",
    "        \n",
    "    def menu(self):\n",
    "        user_input=input(\"\"\"\n",
    "                    how would u like to proceed?\n",
    "                    1.Enter 1 to create pin\n",
    "                    2.Enter 2 to Deposit\n",
    "                    3.Enter 3 to Withdraw\n",
    "                    4.Enter 4 to check Balance\n",
    "                    5.Enter 5 to Exit\n",
    "        \n",
    "                        \"\"\")\n",
    "        if user_input=='1':\n",
    "            self.create_pin()\n",
    "        elif user_input=='2':\n",
    "            self.deposit()\n",
    "        elif user_input=='3':\n",
    "            self.withdraw()\n",
    "        elif user_input=='4':\n",
    "            self.check_balance()\n",
    "        else:\n",
    "            print(\"bye\")\n",
    "            \n",
    "    def create_pin(self):\n",
    "        self.pin=input(\"Enter your 4 digit pin:\")\n",
    "        print(\"Pin set is successfull\")\n",
    "    def deposit(self):\n",
    "        temp=input(\"enter your pin Number\")\n",
    "        if temp==self.pin:\n",
    "            amount=int(input(\"enter the amount to deposit:\"))\n",
    "            self.balance=self.balance+amount\n",
    "            print(\"Deposit is successful\")\n",
    "        else:\n",
    "            print(\"Invalid Pin\")\n",
    "    def __withdraw(self):                           # this method is made private\n",
    "        temp=input(\"enter your pin Number\")\n",
    "        if temp==self.pin:\n",
    "            amount=int(input(\"enter the amount to Withdraw:\"))\n",
    "            if amount<self.balance:\n",
    "                self.balance=self.balance-amount\n",
    "                print(\"Withdraw is successful\")\n",
    "            else:\n",
    "                print(\"Insufficient amount\")\n",
    "        else:\n",
    "            print(\"Invalid pin\")\n",
    "            \n",
    "    def check_balance(self):\n",
    "        temp=input(\"enter your pin Number\")\n",
    "        if temp==self.pin:\n",
    "            print(self.balance)\n",
    "        else:\n",
    "            print(\"Invalid Pin\")\n",
    "            \n",
    "        "
   ]
  },
  {
   "cell_type": "code",
   "execution_count": 73,
   "id": "dde79685",
   "metadata": {},
   "outputs": [
    {
     "name": "stdout",
     "output_type": "stream",
     "text": [
      "\n",
      "                    how would u like to proceed?\n",
      "                    1.Enter 1 to create pin\n",
      "                    2.Enter 2 to Deposit\n",
      "                    3.Enter 3 to Withdraw\n",
      "                    4.Enter 4 to check Balance\n",
      "                    5.Enter 5 to Exit\n",
      "        \n",
      "                        1\n",
      "Enter your 4 digit pin:123\n",
      "Pin set is successfull\n",
      "enter your pin Number123\n",
      "Invalid Pin\n"
     ]
    }
   ],
   "source": [
    "hdfc=Atm()\n",
    "hdfc.pin=456     #Pin of the atm is set from the outside which is wrong\n",
    "hdfc.deposit()"
   ]
  },
  {
   "cell_type": "code",
   "execution_count": 74,
   "id": "507b3da9",
   "metadata": {},
   "outputs": [
    {
     "name": "stdout",
     "output_type": "stream",
     "text": [
      "\n",
      "                    how would u like to proceed?\n",
      "                    1.Enter 1 to create pin\n",
      "                    2.Enter 2 to Deposit\n",
      "                    3.Enter 3 to Withdraw\n",
      "                    4.Enter 4 to check Balance\n",
      "                    5.Enter 5 to Exit\n",
      "        \n",
      "                        1\n",
      "Enter your 4 digit pin:123\n",
      "Pin set is successfull\n",
      "enter your pin Number123\n",
      "enter the amount to deposit:200\n"
     ]
    },
    {
     "ename": "TypeError",
     "evalue": "can only concatenate str (not \"int\") to str",
     "output_type": "error",
     "traceback": [
      "\u001b[1;31m---------------------------------------------------------------------------\u001b[0m",
      "\u001b[1;31mTypeError\u001b[0m                                 Traceback (most recent call last)",
      "Input \u001b[1;32mIn [74]\u001b[0m, in \u001b[0;36m<cell line: 3>\u001b[1;34m()\u001b[0m\n\u001b[0;32m      1\u001b[0m ic\u001b[38;5;241m=\u001b[39mAtm()\n\u001b[0;32m      2\u001b[0m ic\u001b[38;5;241m.\u001b[39mbalance\u001b[38;5;241m=\u001b[39m\u001b[38;5;124m\"\u001b[39m\u001b[38;5;124mabcd\u001b[39m\u001b[38;5;124m\"\u001b[39m  \u001b[38;5;66;03m# balance is assinged string value which is wrong becz string cannot be added to int\u001b[39;00m\n\u001b[1;32m----> 3\u001b[0m \u001b[43mic\u001b[49m\u001b[38;5;241;43m.\u001b[39;49m\u001b[43mdeposit\u001b[49m\u001b[43m(\u001b[49m\u001b[43m)\u001b[49m\n",
      "Input \u001b[1;32mIn [71]\u001b[0m, in \u001b[0;36mAtm.deposit\u001b[1;34m(self)\u001b[0m\n\u001b[0;32m     37\u001b[0m \u001b[38;5;28;01mif\u001b[39;00m temp\u001b[38;5;241m==\u001b[39m\u001b[38;5;28mself\u001b[39m\u001b[38;5;241m.\u001b[39mpin:\n\u001b[0;32m     38\u001b[0m     amount\u001b[38;5;241m=\u001b[39m\u001b[38;5;28mint\u001b[39m(\u001b[38;5;28minput\u001b[39m(\u001b[38;5;124m\"\u001b[39m\u001b[38;5;124menter the amount to deposit:\u001b[39m\u001b[38;5;124m\"\u001b[39m))\n\u001b[1;32m---> 39\u001b[0m     \u001b[38;5;28mself\u001b[39m\u001b[38;5;241m.\u001b[39mbalance\u001b[38;5;241m=\u001b[39m\u001b[38;5;28;43mself\u001b[39;49m\u001b[38;5;241;43m.\u001b[39;49m\u001b[43mbalance\u001b[49m\u001b[38;5;241;43m+\u001b[39;49m\u001b[43mamount\u001b[49m\n\u001b[0;32m     40\u001b[0m     \u001b[38;5;28mprint\u001b[39m(\u001b[38;5;124m\"\u001b[39m\u001b[38;5;124mDeposit is successful\u001b[39m\u001b[38;5;124m\"\u001b[39m)\n\u001b[0;32m     41\u001b[0m \u001b[38;5;28;01melse\u001b[39;00m:\n",
      "\u001b[1;31mTypeError\u001b[0m: can only concatenate str (not \"int\") to str"
     ]
    }
   ],
   "source": [
    "ic=Atm()\n",
    "ic.balance=\"abcd\"  # balance is assinged string value which is wrong becz string cannot be added to int\n",
    "ic.deposit()"
   ]
  },
  {
   "cell_type": "code",
   "execution_count": 40,
   "id": "a52ff5f4",
   "metadata": {},
   "outputs": [],
   "source": [
    "class Atm:\n",
    "    \n",
    "    def __init__(self):\n",
    "        \n",
    "        self.__pin=\"\"         #made private\n",
    "        self.__balance=0       #made private\n",
    "        self.menu()\n",
    "      #  print(id(self))   # if self is obj it means it is stored at a place , find address of self. \n",
    "                          # self address is always same as current object. it means self is current object\n",
    "        \n",
    "    def menu(self):\n",
    "        user_input=input(\"\"\"\n",
    "                    how would u like to proceed?\n",
    "                    1.Enter 1 to create pin\n",
    "                    2.Enter 2 to Deposit\n",
    "                    3.Enter 3 to Withdraw\n",
    "                    4.Enter 4 to check Balance\n",
    "                    5.Enter 5 to Exit\n",
    "        \n",
    "                        \"\"\")\n",
    "        if user_input=='1':\n",
    "            self.create_pin()\n",
    "        elif user_input=='2':\n",
    "            self.deposit()\n",
    "        elif user_input=='3':\n",
    "            self.withdraw()\n",
    "        elif user_input=='4':\n",
    "            self.check_balance()\n",
    "        else:\n",
    "            print(\"bye\")\n",
    "            \n",
    "    def create_pin(self):\n",
    "        self.__pin=input(\"Enter your 4 digit pin:\")\n",
    "        print(\"Pin set is successfull\")\n",
    "    def deposit(self):\n",
    "        temp=input(\"enter your pin Number\")\n",
    "        if temp==self.__pin:\n",
    "            amount=int(input(\"enter the amount to deposit:\"))\n",
    "            self.__balance=self.__balance+amount\n",
    "            print(\"Deposit is successful\")\n",
    "        else:\n",
    "            print(\"Invalid Pin\")\n",
    "    def __withdraw(self):                           # this method is made private\n",
    "        temp=input(\"enter your pin Number\")\n",
    "        if temp==self.__pin:\n",
    "            amount=int(input(\"enter the amount to Withdraw:\"))\n",
    "            if amount<self.__balance:\n",
    "                self.__balance=self.__balance-amount\n",
    "                print(\"Withdraw is successful\")\n",
    "            else:\n",
    "                print(\"Insufficient amount\")\n",
    "        else:\n",
    "            print(\"Invalid pin\")\n",
    "            \n",
    "    def check_balance(self):\n",
    "        temp=input(\"enter your pin Number\")\n",
    "        if temp==self.__pin:\n",
    "            print(self.__balance)\n",
    "        else:\n",
    "            print(\"Invalid Pin\")\n",
    "            \n",
    "        "
   ]
  },
  {
   "cell_type": "code",
   "execution_count": 35,
   "id": "ad7ffe7a",
   "metadata": {},
   "outputs": [
    {
     "name": "stdout",
     "output_type": "stream",
     "text": [
      "\n",
      "                    how would u like to proceed?\n",
      "                    1.Enter 1 to create pin\n",
      "                    2.Enter 2 to Deposit\n",
      "                    3.Enter 3 to Withdraw\n",
      "                    4.Enter 4 to check Balance\n",
      "                    5.Enter 5 to Exit\n",
      "        \n",
      "                        1\n",
      "Enter your 4 digit pin:1234\n",
      "Pin set is successfull\n",
      "enter your pin Number1234\n",
      "enter the amount to deposit:3000\n",
      "Deposit is successful\n",
      "enter your pin Number1234\n",
      "3000\n"
     ]
    }
   ],
   "source": [
    "ubi=Atm()\n",
    "ubi.balance=200  # initial value is changed to 200 but since balance variable is private it doesnt affect the final balance\n",
    "ubi.deposit()\n",
    "ubi.check_balance()"
   ]
  },
  {
   "cell_type": "code",
   "execution_count": 41,
   "id": "13bfc76b",
   "metadata": {},
   "outputs": [
    {
     "name": "stdout",
     "output_type": "stream",
     "text": [
      "\n",
      "                    how would u like to proceed?\n",
      "                    1.Enter 1 to create pin\n",
      "                    2.Enter 2 to Deposit\n",
      "                    3.Enter 3 to Withdraw\n",
      "                    4.Enter 4 to check Balance\n",
      "                    5.Enter 5 to Exit\n",
      "        \n",
      "                        1\n",
      "Enter your 4 digit pin:123\n",
      "Pin set is successfull\n",
      "enter your pin Number123\n",
      "enter the amount to deposit:300\n",
      "Deposit is successful\n",
      "enter your pin Number123\n",
      "300\n"
     ]
    }
   ],
   "source": [
    "cb=Atm()\n",
    "cb.__balance=200\n",
    "cb.deposit()\n",
    "cb.check_balance()"
   ]
  },
  {
   "cell_type": "code",
   "execution_count": 43,
   "id": "413007fa",
   "metadata": {},
   "outputs": [
    {
     "name": "stdout",
     "output_type": "stream",
     "text": [
      "\n",
      "                    how would u like to proceed?\n",
      "                    1.Enter 1 to create pin\n",
      "                    2.Enter 2 to Deposit\n",
      "                    3.Enter 3 to Withdraw\n",
      "                    4.Enter 4 to check Balance\n",
      "                    5.Enter 5 to Exit\n",
      "        \n",
      "                        1\n",
      "Enter your 4 digit pin:123\n",
      "Pin set is successfull\n",
      "enter your pin Number123\n",
      "enter the amount to deposit:300\n",
      "Deposit is successful\n",
      "enter your pin Number123\n",
      "500\n"
     ]
    }
   ],
   "source": [
    "ib=Atm()\n",
    "ib._Atm__balance=200 #if private value can be changed in this way\n",
    "ib.deposit()\n",
    "ib.check_balance()"
   ]
  },
  {
   "cell_type": "code",
   "execution_count": 53,
   "id": "2cdc4505",
   "metadata": {},
   "outputs": [],
   "source": [
    "class Atm:\n",
    "    \n",
    "    def __init__(self):\n",
    "        \n",
    "        self.__pin=\"\"         #made private\n",
    "        self.__balance=0       #made private\n",
    "        \n",
    "      #  print(id(self))   # if self is obj it means it is stored at a place , find address of self. \n",
    "                          # self address is always same as current object. it means self is current object\n",
    "    def get_pin(self):\n",
    "        return self.__pin\n",
    "    def set_pin(self,new_pin):\n",
    "        self.__pin=new_pin\n",
    "        print(\"Pin set successfully\")\n",
    "    "
   ]
  },
  {
   "cell_type": "code",
   "execution_count": 54,
   "id": "be12ed12",
   "metadata": {},
   "outputs": [],
   "source": [
    "ob=Atm()"
   ]
  },
  {
   "cell_type": "code",
   "execution_count": 55,
   "id": "d636a8d9",
   "metadata": {},
   "outputs": [
    {
     "data": {
      "text/plain": [
       "''"
      ]
     },
     "execution_count": 55,
     "metadata": {},
     "output_type": "execute_result"
    }
   ],
   "source": [
    "ob.get_pin()"
   ]
  },
  {
   "cell_type": "code",
   "execution_count": 56,
   "id": "92bf86f5",
   "metadata": {},
   "outputs": [
    {
     "name": "stdout",
     "output_type": "stream",
     "text": [
      "Pin set successfully\n"
     ]
    }
   ],
   "source": [
    "ob.set_pin(\"2345\") # value of private variable can be set in this way also by writing set function and calling it."
   ]
  },
  {
   "cell_type": "code",
   "execution_count": 57,
   "id": "ff81ef7d",
   "metadata": {},
   "outputs": [
    {
     "data": {
      "text/plain": [
       "'2345'"
      ]
     },
     "execution_count": 57,
     "metadata": {},
     "output_type": "execute_result"
    }
   ],
   "source": [
    "ob.get_pin()"
   ]
  },
  {
   "cell_type": "code",
   "execution_count": 59,
   "id": "cc6795fd",
   "metadata": {},
   "outputs": [
    {
     "name": "stdout",
     "output_type": "stream",
     "text": [
      "Pin set successfully\n"
     ]
    }
   ],
   "source": [
    "ob.set_pin(5.6)"
   ]
  },
  {
   "cell_type": "code",
   "execution_count": 60,
   "id": "1e623620",
   "metadata": {},
   "outputs": [],
   "source": [
    "class Atm:\n",
    "    \n",
    "    def __init__(self):\n",
    "        \n",
    "        self.__pin=\"\"         #made private\n",
    "        self.__balance=0       #made private\n",
    "        \n",
    "      #  print(id(self))   # if self is obj it means it is stored at a place , find address of self. \n",
    "                          # self address is always same as current object. it means self is current object\n",
    "    def get_pin(self):\n",
    "        return self.__pin\n",
    "    def set_pin(self,new_pin):   #here we can set some condition also for private variable which we cannot do in case of\n",
    "        if type(new_pin)==str:   # Directly accessing with obj._Atm__pin\n",
    "            self.__pin=new_pin\n",
    "        \n",
    "            print(\"Pin set successfully\")\n",
    "        else:\n",
    "            print(\"pin not allowed\")\n",
    "    "
   ]
  },
  {
   "cell_type": "code",
   "execution_count": 64,
   "id": "f4af5825",
   "metadata": {},
   "outputs": [
    {
     "name": "stdout",
     "output_type": "stream",
     "text": [
      "Pin set successfully\n"
     ]
    },
    {
     "data": {
      "text/plain": [
       "'1234'"
      ]
     },
     "execution_count": 64,
     "metadata": {},
     "output_type": "execute_result"
    }
   ],
   "source": [
    "obj=Atm()\n",
    "obj.set_pin(\"1234\")  # \n",
    "obj.get_pin()"
   ]
  },
  {
   "cell_type": "code",
   "execution_count": 65,
   "id": "745a3698",
   "metadata": {},
   "outputs": [
    {
     "name": "stdout",
     "output_type": "stream",
     "text": [
      "pin not allowed\n"
     ]
    },
    {
     "data": {
      "text/plain": [
       "''"
      ]
     },
     "execution_count": 65,
     "metadata": {},
     "output_type": "execute_result"
    }
   ],
   "source": [
    "obj1=Atm()\n",
    "obj1.set_pin(5.6)\n",
    "obj1.get_pin()"
   ]
  },
  {
   "cell_type": "code",
   "execution_count": 66,
   "id": "3075288e",
   "metadata": {},
   "outputs": [
    {
     "data": {
      "text/plain": [
       "<__main__.Atm at 0x1fcf4a37550>"
      ]
     },
     "execution_count": 66,
     "metadata": {},
     "output_type": "execute_result"
    }
   ],
   "source": [
    "Atm()"
   ]
  },
  {
   "cell_type": "code",
   "execution_count": 68,
   "id": "5ecf5b30",
   "metadata": {},
   "outputs": [],
   "source": [
    " class Atm:\n",
    "    \n",
    "    def __init__(self):\n",
    "        \n",
    "        self.__pin=\"\"         #made private\n",
    "        self.__balance=0       #made private\n",
    "        self.menu()\n",
    "      #  print(id(self))   # if self is obj it means it is stored at a place , find address of self. \n",
    "                          # self address is always same as current object. it means self is current object\n",
    "        \n",
    "    def menu(self):\n",
    "        user_input=input(\"\"\"\n",
    "                    how would u like to proceed?\n",
    "                    1.Enter 1 to create pin\n",
    "                    2.Enter 2 to Deposit\n",
    "                    3.Enter 3 to Withdraw\n",
    "                    4.Enter 4 to check Balance\n",
    "                    5.Enter 5 to Exit\n",
    "        \n",
    "                        \"\"\")\n",
    "        if user_input=='1':\n",
    "            self.create_pin()\n",
    "        elif user_input=='2':\n",
    "            self.deposit()\n",
    "        elif user_input=='3':\n",
    "            self.withdraw()\n",
    "        elif user_input=='4':\n",
    "            self.check_balance()\n",
    "        else:\n",
    "            print(\"bye\")\n",
    "            \n",
    "    def create_pin(self):\n",
    "        self.__pin=input(\"Enter your 4 digit pin:\")\n",
    "        print(\"Pin set is successfull\")\n",
    "    def deposit(self):\n",
    "        temp=input(\"enter your pin Number\")\n",
    "        if temp==self.__pin:\n",
    "            amount=int(input(\"enter the amount to deposit:\"))\n",
    "            self.__balance=self.__balance+amount\n",
    "            print(\"Deposit is successful\")\n",
    "        else:\n",
    "            print(\"Invalid Pin\")\n",
    "    def __withdraw(self):                           # this method is made private\n",
    "        temp=input(\"enter your pin Number\")\n",
    "        if temp==self.__pin:\n",
    "            amount=int(input(\"enter the amount to Withdraw:\"))\n",
    "            if amount<self.__balance:\n",
    "                self.__balance=self.__balance-amount\n",
    "                print(\"Withdraw is successful\")\n",
    "            else:\n",
    "                print(\"Insufficient amount\")\n",
    "        else:\n",
    "            print(\"Invalid pin\")\n",
    "            \n",
    "    def check_balance(self):\n",
    "        temp=input(\"enter your pin Number\")\n",
    "        if temp==self.__pin:\n",
    "            print(self.__balance)\n",
    "        else:\n",
    "            print(\"Invalid Pin\")\n",
    "            \n",
    "               \n"
   ]
  },
  {
   "cell_type": "code",
   "execution_count": 69,
   "id": "0dd77c74",
   "metadata": {},
   "outputs": [
    {
     "name": "stdout",
     "output_type": "stream",
     "text": [
      "\n",
      "                   how would u like to proceed?\n",
      "                   1.Enter 1 to create pin\n",
      "                   2.Enter 2 to Deposit\n",
      "                   3.Enter 3 to Withdraw\n",
      "                   4.Enter 4 to check Balance\n",
      "                   5.Enter 5 to Exit\n",
      "       \n",
      "                       1\n",
      "Enter your 4 digit pin:123\n",
      "Pin set is successfull\n"
     ]
    },
    {
     "data": {
      "text/plain": [
       "<__main__.Atm at 0x1fcf5557bb0>"
      ]
     },
     "execution_count": 69,
     "metadata": {},
     "output_type": "execute_result"
    }
   ],
   "source": [
    "Atm()"
   ]
  },
  {
   "cell_type": "code",
   "execution_count": null,
   "id": "814bb0cc",
   "metadata": {},
   "outputs": [],
   "source": []
  }
 ],
 "metadata": {
  "kernelspec": {
   "display_name": "Python 3 (ipykernel)",
   "language": "python",
   "name": "python3"
  },
  "language_info": {
   "codemirror_mode": {
    "name": "ipython",
    "version": 3
   },
   "file_extension": ".py",
   "mimetype": "text/x-python",
   "name": "python",
   "nbconvert_exporter": "python",
   "pygments_lexer": "ipython3",
   "version": "3.9.12"
  }
 },
 "nbformat": 4,
 "nbformat_minor": 5
}
