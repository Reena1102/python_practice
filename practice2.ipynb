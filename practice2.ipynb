{
 "cells": [
  {
   "cell_type": "code",
   "execution_count": 12,
   "id": "1065a3a4",
   "metadata": {},
   "outputs": [
    {
     "name": "stdout",
     "output_type": "stream",
     "text": [
      "a\n",
      "b\n",
      "c\n",
      "d\n",
      "e\n"
     ]
    }
   ],
   "source": [
    "count=0\n",
    "word='abcde'\n",
    "for letter in word:\n",
    "   \n",
    "    print(word[count])\n",
    "    count=count+1"
   ]
  },
  {
   "cell_type": "code",
   "execution_count": 1,
   "id": "f54f61e8",
   "metadata": {},
   "outputs": [
    {
     "name": "stdout",
     "output_type": "stream",
     "text": [
      "0\n",
      "2\n",
      "4\n",
      "6\n",
      "8\n"
     ]
    }
   ],
   "source": [
    "for x in range(0,10):\n",
    "    if x%2==0:\n",
    "        print(x)"
   ]
  },
  {
   "cell_type": "code",
   "execution_count": 4,
   "id": "c893f0fe",
   "metadata": {},
   "outputs": [
    {
     "data": {
      "text/plain": [
       "[3, 6, 9, 12, 15, 18, 21, 24, 27, 30, 33, 36, 39, 42, 45, 48]"
      ]
     },
     "execution_count": 4,
     "metadata": {},
     "output_type": "execute_result"
    }
   ],
   "source": [
    "mylist=[x for x in range(1,50) if x%3==0]\n",
    "mylist"
   ]
  },
  {
   "cell_type": "code",
   "execution_count": 13,
   "id": "b521174b",
   "metadata": {},
   "outputs": [
    {
     "name": "stdout",
     "output_type": "stream",
     "text": [
      "word\n",
      "in\n",
      "this\n",
      "sentence\n",
      "that\n",
      "an\n",
      "even\n",
      "number\n",
      "of\n"
     ]
    }
   ],
   "source": [
    "st = 'Print every word in this sentence that has an even number of letters'\n",
    "for x in st.split():\n",
    "    if len(x)%2==0:\n",
    "        print (x)"
   ]
  },
  {
   "cell_type": "code",
   "execution_count": 13,
   "id": "5cc60f48",
   "metadata": {},
   "outputs": [
    {
     "name": "stdout",
     "output_type": "stream",
     "text": [
      "Fizz 3\n",
      "buzz 5\n",
      "Fizz 6\n",
      "Fizz 9\n",
      "buzz 10\n",
      "Fizz 12\n",
      "FizzBuzz 15\n",
      "Fizz 18\n",
      "buzz 20\n",
      "Fizz 21\n",
      "Fizz 24\n",
      "buzz 25\n",
      "Fizz 27\n",
      "FizzBuzz 30\n",
      "Fizz 33\n",
      "buzz 35\n",
      "Fizz 36\n",
      "Fizz 39\n",
      "buzz 40\n",
      "Fizz 42\n",
      "FizzBuzz 45\n",
      "Fizz 48\n",
      "buzz 50\n",
      "Fizz 51\n",
      "Fizz 54\n",
      "buzz 55\n",
      "Fizz 57\n",
      "FizzBuzz 60\n",
      "Fizz 63\n",
      "buzz 65\n",
      "Fizz 66\n",
      "Fizz 69\n",
      "buzz 70\n",
      "Fizz 72\n",
      "FizzBuzz 75\n",
      "Fizz 78\n",
      "buzz 80\n",
      "Fizz 81\n",
      "Fizz 84\n",
      "buzz 85\n",
      "Fizz 87\n",
      "FizzBuzz 90\n",
      "Fizz 93\n",
      "buzz 95\n",
      "Fizz 96\n",
      "Fizz 99\n"
     ]
    }
   ],
   "source": [
    "for x in range(1,100):\n",
    "    if x%3==0 and not x%5==0:\n",
    "        print(\"Fizz\",x)\n",
    "    elif x%5==0 and not x%3==0:\n",
    "        print(\"buzz\",x)\n",
    "    elif x%15==0:\n",
    "        print(\"FizzBuzz\",x)\n",
    "    else:\n",
    "        pass\n",
    "        "
   ]
  },
  {
   "cell_type": "code",
   "execution_count": 1,
   "id": "48fb775e",
   "metadata": {},
   "outputs": [
    {
     "data": {
      "text/plain": [
       "['C', 'a', 'l', 'o', 't', 'f', 'l', 'o', 'e', 'w', 'i', 't', 's']"
      ]
     },
     "execution_count": 1,
     "metadata": {},
     "output_type": "execute_result"
    }
   ],
   "source": [
    "st = 'Create a list of the first letters of every word in this string'\n",
    "new_list=st.split()\n",
    "new_list\n",
    "my_list=[]\n",
    "for letter in new_list:\n",
    "    my_list.append(letter[0])\n",
    "my_list\n",
    "    "
   ]
  },
  {
   "cell_type": "code",
   "execution_count": 7,
   "id": "471bf468",
   "metadata": {},
   "outputs": [
    {
     "name": "stdout",
     "output_type": "stream",
     "text": [
      "['start', 's', 'sentence']\n"
     ]
    }
   ],
   "source": [
    "st = 'Print only the words that start with s in this sentence'\n",
    "my_string=st.split()\n",
    "my_list=[]\n",
    "for letter in my_string:\n",
    "    if letter[0]==\"s\":\n",
    "        my_list.append(letter)        \n",
    "print(my_list)\n",
    "        "
   ]
  },
  {
   "cell_type": "code",
   "execution_count": 10,
   "id": "40a7c4ec",
   "metadata": {},
   "outputs": [
    {
     "name": "stdout",
     "output_type": "stream",
     "text": [
      "False\n",
      "True\n",
      "False\n"
     ]
    }
   ],
   "source": [
    "def check_even_list(num_list):\n",
    "    for num in num_list:\n",
    "        if num%2==0:\n",
    "            print(True)\n",
    "        else:\n",
    "            print(False)\n",
    "    \n",
    "check_even_list([1,2,5])"
   ]
  },
  {
   "cell_type": "code",
   "execution_count": 11,
   "id": "d49f3902",
   "metadata": {},
   "outputs": [
    {
     "name": "stdout",
     "output_type": "stream",
     "text": [
      "1\n",
      "2\n",
      "3\n",
      "4\n"
     ]
    }
   ],
   "source": [
    "list_my=[1,2,3,4]\n",
    "for num in list_my:\n",
    "    print(num)"
   ]
  },
  {
   "cell_type": "code",
   "execution_count": 13,
   "id": "6156cf3f",
   "metadata": {},
   "outputs": [
    {
     "name": "stdout",
     "output_type": "stream",
     "text": [
      "0\n",
      "5\n",
      "10\n",
      "15\n",
      "20\n",
      "25\n",
      "30\n",
      "35\n",
      "40\n",
      "45\n",
      "50\n",
      "55\n",
      "60\n",
      "65\n",
      "70\n",
      "75\n",
      "80\n",
      "85\n",
      "90\n",
      "95\n"
     ]
    }
   ],
   "source": [
    "for num in range(0,100,5):\n",
    "    print(num)"
   ]
  },
  {
   "cell_type": "code",
   "execution_count": 20,
   "id": "ee63d549",
   "metadata": {},
   "outputs": [
    {
     "name": "stdout",
     "output_type": "stream",
     "text": [
      "5\n"
     ]
    }
   ],
   "source": [
    "word='abcde'\n",
    "count=0\n",
    "for x in word:\n",
    "    count=count+1\n",
    "print(count)\n",
    "    "
   ]
  },
  {
   "cell_type": "code",
   "execution_count": 21,
   "id": "b10909e1",
   "metadata": {},
   "outputs": [
    {
     "data": {
      "text/plain": [
       "5"
      ]
     },
     "execution_count": 21,
     "metadata": {},
     "output_type": "execute_result"
    }
   ],
   "source": [
    "len(word)"
   ]
  },
  {
   "cell_type": "code",
   "execution_count": 32,
   "id": "097f2bf7",
   "metadata": {},
   "outputs": [
    {
     "name": "stdout",
     "output_type": "stream",
     "text": [
      "(0, 'a')\n",
      "(1, 'b')\n",
      "(2, 'c')\n",
      "(3, 'd')\n",
      "(4, 'e')\n"
     ]
    }
   ],
   "source": [
    "word='abcde'\n",
    "count=0\n",
    "for x in enumerate(word):\n",
    "    print(x)\n",
    "\n",
    "    \n",
    "    "
   ]
  },
  {
   "cell_type": "code",
   "execution_count": 33,
   "id": "57ebb17b",
   "metadata": {},
   "outputs": [
    {
     "name": "stdout",
     "output_type": "stream",
     "text": [
      "(0, 'a')\n",
      "(1, 'b')\n",
      "(2, 'c')\n",
      "(3, 'd')\n",
      "(4, 'e')\n"
     ]
    }
   ],
   "source": [
    "list1=[0,1,2,3,4]\n",
    "list2=['a','b','c','d','e']\n",
    "for x in zip(list1,list2):\n",
    "    print(x)"
   ]
  },
  {
   "cell_type": "code",
   "execution_count": 34,
   "id": "cdf8e854",
   "metadata": {},
   "outputs": [
    {
     "name": "stdout",
     "output_type": "stream",
     "text": [
      "(0, 'a', 100)\n",
      "(1, 'b', 200)\n",
      "(2, 'c', 300)\n"
     ]
    }
   ],
   "source": [
    "list1=[0,1,2,3,4]\n",
    "list2=['a','b','c','d','e']\n",
    "list3=[100,200,300]\n",
    "for x in zip(list1,list2,list3):\n",
    "    print(x)"
   ]
  },
  {
   "cell_type": "code",
   "execution_count": 37,
   "id": "30420e64",
   "metadata": {},
   "outputs": [
    {
     "data": {
      "text/plain": [
       "100"
      ]
     },
     "execution_count": 37,
     "metadata": {},
     "output_type": "execute_result"
    }
   ],
   "source": [
    "my_list=[2,5,100,56]\n",
    "min(my_list)\n",
    "max(my_list)"
   ]
  },
  {
   "cell_type": "code",
   "execution_count": 49,
   "id": "c346789e",
   "metadata": {},
   "outputs": [],
   "source": [
    "from random import shuffle\n",
    "mylist=[\"a\",\"b\",\"d\"]\n",
    "shuffle(mylist)"
   ]
  },
  {
   "cell_type": "code",
   "execution_count": 51,
   "id": "d7d0d8bb",
   "metadata": {},
   "outputs": [
    {
     "data": {
      "text/plain": [
       "['d', 'b', 'a']"
      ]
     },
     "execution_count": 51,
     "metadata": {},
     "output_type": "execute_result"
    }
   ],
   "source": [
    "a=mylist\n",
    "a\n"
   ]
  },
  {
   "cell_type": "code",
   "execution_count": 47,
   "id": "fe480f2b",
   "metadata": {},
   "outputs": [],
   "source": [
    "from random import randint\n",
    "b=randint(0,100)"
   ]
  },
  {
   "cell_type": "code",
   "execution_count": 52,
   "id": "04468cc3",
   "metadata": {},
   "outputs": [
    {
     "name": "stdout",
     "output_type": "stream",
     "text": [
      "enter your name:Reena\n"
     ]
    },
    {
     "data": {
      "text/plain": [
       "'Reena'"
      ]
     },
     "execution_count": 52,
     "metadata": {},
     "output_type": "execute_result"
    }
   ],
   "source": [
    "input(\"enter your name:\")"
   ]
  },
  {
   "cell_type": "code",
   "execution_count": 55,
   "id": "12ae075c",
   "metadata": {},
   "outputs": [
    {
     "name": "stdout",
     "output_type": "stream",
     "text": [
      "enter your age:30\n"
     ]
    }
   ],
   "source": [
    "a=int(input(\"enter your age:\"))\n"
   ]
  },
  {
   "cell_type": "code",
   "execution_count": 56,
   "id": "fdd3f831",
   "metadata": {},
   "outputs": [
    {
     "data": {
      "text/plain": [
       "['h', 'e', 'l', 'l', 'o', ' ', 'w', 'o', 'r', 'l', 'd']"
      ]
     },
     "execution_count": 56,
     "metadata": {},
     "output_type": "execute_result"
    }
   ],
   "source": [
    "mystring=\"hello world\"\n",
    "my_list=[]\n",
    "for letter in mystring:\n",
    "    my_list.append(letter)\n",
    "my_list"
   ]
  },
  {
   "cell_type": "code",
   "execution_count": 57,
   "id": "3d6d8a6f",
   "metadata": {},
   "outputs": [
    {
     "data": {
      "text/plain": [
       "['h', 'e', 'l', 'l', 'o', ' ', 'w', 'o', 'r', 'l', 'd']"
      ]
     },
     "execution_count": 57,
     "metadata": {},
     "output_type": "execute_result"
    }
   ],
   "source": [
    "mystring=\"hello world\"\n",
    "\n",
    "my_list=[letter for letter in mystring]\n",
    "    \n",
    "my_list"
   ]
  },
  {
   "cell_type": "code",
   "execution_count": 58,
   "id": "4c72a2aa",
   "metadata": {},
   "outputs": [
    {
     "data": {
      "text/plain": [
       "['w', 'o', 'r', 'd']"
      ]
     },
     "execution_count": 58,
     "metadata": {},
     "output_type": "execute_result"
    }
   ],
   "source": [
    "my_list=[letter for letter in 'word']\n",
    "    \n",
    "my_list"
   ]
  },
  {
   "cell_type": "code",
   "execution_count": 63,
   "id": "ebeb2ae5",
   "metadata": {},
   "outputs": [
    {
     "data": {
      "text/plain": [
       "[0, 2, 4, 6, 8]"
      ]
     },
     "execution_count": 63,
     "metadata": {},
     "output_type": "execute_result"
    }
   ],
   "source": [
    "my_list=[num for num in range(0,10) if num%2==0]\n",
    "    \n",
    "my_list"
   ]
  },
  {
   "cell_type": "code",
   "execution_count": 66,
   "id": "f212d331",
   "metadata": {},
   "outputs": [
    {
     "data": {
      "text/plain": [
       "[0, 2, 4, 6, 8, 10, 12, 14, 16, 18]"
      ]
     },
     "execution_count": 66,
     "metadata": {},
     "output_type": "execute_result"
    }
   ],
   "source": [
    "my_list=[num*2 for num in range(0,10)]\n",
    "    \n",
    "my_list"
   ]
  },
  {
   "cell_type": "code",
   "execution_count": 67,
   "id": "e8954d4e",
   "metadata": {},
   "outputs": [
    {
     "data": {
      "text/plain": [
       "[1, 2, 3, 1, 2, 3, 1, 2, 3]"
      ]
     },
     "execution_count": 67,
     "metadata": {},
     "output_type": "execute_result"
    }
   ],
   "source": [
    "my_list=[1,2,3]\n",
    "my_list*3"
   ]
  },
  {
   "cell_type": "code",
   "execution_count": 69,
   "id": "5071b43e",
   "metadata": {},
   "outputs": [
    {
     "data": {
      "text/plain": [
       "[101, 301, 401, 102, 302, 402, 103, 303, 403]"
      ]
     },
     "execution_count": 69,
     "metadata": {},
     "output_type": "execute_result"
    }
   ],
   "source": [
    "my_list=[]\n",
    "for x in [1,2,3]:\n",
    "    for y in [100,300,400]:\n",
    "        my_list.append(x+y)\n",
    "        \n",
    "my_list"
   ]
  },
  {
   "cell_type": "code",
   "execution_count": 70,
   "id": "2cf88308",
   "metadata": {},
   "outputs": [
    {
     "data": {
      "text/plain": [
       "[101, 301, 401, 102, 302, 402, 103, 303, 403]"
      ]
     },
     "execution_count": 70,
     "metadata": {},
     "output_type": "execute_result"
    }
   ],
   "source": [
    "my_list=[x+y for x in [1,2,3] for y in [100,300,400]]\n",
    "my_list"
   ]
  },
  {
   "cell_type": "code",
   "execution_count": 11,
   "id": "392996aa",
   "metadata": {},
   "outputs": [],
   "source": [
    "work=[('reena',200),('swati',300),(\"veena\",800)]\n",
    "\n",
    "def employee_check(work):\n",
    "    current_max=0\n",
    "    employee_name=\" \"\n",
    "    for employee, hours in work:\n",
    "        if hours>current_max:\n",
    "            current_max=hours\n",
    "            employee_name=employee\n",
    "            \n",
    "        else:\n",
    "            pass\n",
    "    return(current_max,employee)"
   ]
  },
  {
   "cell_type": "code",
   "execution_count": 12,
   "id": "03d0f342",
   "metadata": {},
   "outputs": [
    {
     "data": {
      "text/plain": [
       "(800, 'veena')"
      ]
     },
     "execution_count": 12,
     "metadata": {},
     "output_type": "execute_result"
    }
   ],
   "source": [
    "employee_check(work)"
   ]
  },
  {
   "cell_type": "code",
   "execution_count": 72,
   "id": "ba886aa8",
   "metadata": {},
   "outputs": [],
   "source": [
    "from random import shuffle\n",
    "my_list=[' ','o',' ']\n",
    "shuffle(my_list)"
   ]
  },
  {
   "cell_type": "code",
   "execution_count": 73,
   "id": "75f00aa9",
   "metadata": {},
   "outputs": [
    {
     "data": {
      "text/plain": [
       "[' ', 'o', ' ']"
      ]
     },
     "execution_count": 73,
     "metadata": {},
     "output_type": "execute_result"
    }
   ],
   "source": [
    "my_list"
   ]
  },
  {
   "cell_type": "code",
   "execution_count": 123,
   "id": "2d9031ad",
   "metadata": {},
   "outputs": [],
   "source": [
    "def gusse_input():\n",
    "    select_inp=[]\n",
    "    while select_inp not in[0,1,2]:\n",
    "        select_inp=int(input(\"enter number among 0,1 or 2\"))\n",
    "    return select_inp\n",
    "    "
   ]
  },
  {
   "cell_type": "code",
   "execution_count": 124,
   "id": "e48f34a1",
   "metadata": {},
   "outputs": [
    {
     "name": "stdout",
     "output_type": "stream",
     "text": [
      "enter number among 0,1 or 21\n"
     ]
    }
   ],
   "source": [
    "my_guess=gusse_input()"
   ]
  },
  {
   "cell_type": "code",
   "execution_count": 125,
   "id": "74cc409e",
   "metadata": {},
   "outputs": [],
   "source": [
    "from random import shuffle\n",
    "my_list=[' ','o',' ']\n",
    "def suffle_list(my_list):\n",
    "    shuffle(my_list)\n",
    "    return my_list"
   ]
  },
  {
   "cell_type": "code",
   "execution_count": 126,
   "id": "af7a6acd",
   "metadata": {},
   "outputs": [
    {
     "data": {
      "text/plain": [
       "[' ', 'o', ' ']"
      ]
     },
     "execution_count": 126,
     "metadata": {},
     "output_type": "execute_result"
    }
   ],
   "source": [
    "suffle_list(my_list)"
   ]
  },
  {
   "cell_type": "code",
   "execution_count": 127,
   "id": "0e1c7a43",
   "metadata": {},
   "outputs": [],
   "source": [
    "def check_gusse(my_list,my_guess):\n",
    "    if my_list[my_guess]=='o':\n",
    "        print(\"you won the game\")\n",
    "        \n",
    "    else:\n",
    "        print(\"you lose the game\")\n",
    "        "
   ]
  },
  {
   "cell_type": "code",
   "execution_count": 128,
   "id": "7ca77608",
   "metadata": {},
   "outputs": [
    {
     "name": "stdout",
     "output_type": "stream",
     "text": [
      "you won the game\n"
     ]
    }
   ],
   "source": [
    "check_gusse(my_list,my_guess)"
   ]
  },
  {
   "cell_type": "code",
   "execution_count": 129,
   "id": "ebb80c07",
   "metadata": {},
   "outputs": [
    {
     "name": "stdout",
     "output_type": "stream",
     "text": [
      "enter number among 0,1 or 21\n",
      "you lose the game\n"
     ]
    }
   ],
   "source": [
    "gusse_input()\n",
    "suffle_list(my_list)\n",
    "check_gusse(my_list,my_guess)"
   ]
  },
  {
   "cell_type": "code",
   "execution_count": 130,
   "id": "13dc7480",
   "metadata": {},
   "outputs": [
    {
     "name": "stdout",
     "output_type": "stream",
     "text": [
      "hello Swati\n"
     ]
    }
   ],
   "source": [
    "def name_of_func(name):\n",
    "    print(\"hello {}\".format(name))\n",
    "    \n",
    "name_of_func(\"Swati\")"
   ]
  },
  {
   "cell_type": "code",
   "execution_count": 131,
   "id": "3094b073",
   "metadata": {},
   "outputs": [
    {
     "name": "stdout",
     "output_type": "stream",
     "text": [
      "hello 25\n"
     ]
    }
   ],
   "source": [
    "def name_of_student1(age,name=\"Swati\"):\n",
    "    print(\"hello {},my age is {}\".format(name,age))\n",
    "    \n",
    "name_of_func(25)"
   ]
  },
  {
   "cell_type": "code",
   "execution_count": 95,
   "id": "cbf4fb46",
   "metadata": {},
   "outputs": [
    {
     "name": "stdout",
     "output_type": "stream",
     "text": [
      "even\n",
      "odd\n",
      "odd\n",
      "even\n",
      "even\n"
     ]
    }
   ],
   "source": [
    "my_list=[2,3,5,6,8]\n",
    "def even_num(my_list):\n",
    "    for num in my_list:\n",
    "        if num%2==0:\n",
    "            print(\"even\")\n",
    "        else:\n",
    "            print(\"odd\")\n",
    "            \n",
    "even_num(my_list)\n",
    "            "
   ]
  },
  {
   "cell_type": "code",
   "execution_count": 99,
   "id": "5b78433f",
   "metadata": {},
   "outputs": [
    {
     "data": {
      "text/plain": [
       "False"
      ]
     },
     "execution_count": 99,
     "metadata": {},
     "output_type": "execute_result"
    }
   ],
   "source": [
    "my_list=[1,3,5,5,7]\n",
    "def even_num(my_list):\n",
    "    for num in my_list:\n",
    "        if num%2==0:\n",
    "            return True\n",
    "        else:\n",
    "            pass\n",
    "    return False\n",
    "            \n",
    "even_num(my_list)\n",
    "            "
   ]
  },
  {
   "cell_type": "code",
   "execution_count": 102,
   "id": "15f6aebb",
   "metadata": {},
   "outputs": [
    {
     "name": "stdout",
     "output_type": "stream",
     "text": [
      "50\n"
     ]
    }
   ],
   "source": [
    "def addition_of_number(num1,num2):\n",
    "    c=num1+num2\n",
    "    print(c)\n",
    "    \n",
    "d=addition_of_number(20,30)"
   ]
  },
  {
   "cell_type": "code",
   "execution_count": 104,
   "id": "d3b475b4",
   "metadata": {},
   "outputs": [],
   "source": [
    "d\n"
   ]
  },
  {
   "cell_type": "code",
   "execution_count": 105,
   "id": "c149f8bb",
   "metadata": {},
   "outputs": [
    {
     "data": {
      "text/plain": [
       "NoneType"
      ]
     },
     "execution_count": 105,
     "metadata": {},
     "output_type": "execute_result"
    }
   ],
   "source": [
    "type(d)"
   ]
  },
  {
   "cell_type": "code",
   "execution_count": 112,
   "id": "2027a3ef",
   "metadata": {},
   "outputs": [],
   "source": [
    "def addition_of_number(num1,num2):\n",
    "    \n",
    "    return num1+num2\n",
    "    \n",
    "e=addition_of_number(20,30)"
   ]
  },
  {
   "cell_type": "code",
   "execution_count": 113,
   "id": "267ed466",
   "metadata": {},
   "outputs": [
    {
     "data": {
      "text/plain": [
       "50"
      ]
     },
     "execution_count": 113,
     "metadata": {},
     "output_type": "execute_result"
    }
   ],
   "source": [
    "e"
   ]
  },
  {
   "cell_type": "code",
   "execution_count": 109,
   "id": "d05c6fe3",
   "metadata": {},
   "outputs": [
    {
     "data": {
      "text/plain": [
       "int"
      ]
     },
     "execution_count": 109,
     "metadata": {},
     "output_type": "execute_result"
    }
   ],
   "source": [
    "type(e)"
   ]
  },
  {
   "cell_type": "code",
   "execution_count": 115,
   "id": "308b1f88",
   "metadata": {},
   "outputs": [
    {
     "name": "stdout",
     "output_type": "stream",
     "text": [
      "220.0\n",
      "110.0\n",
      "440.0\n"
     ]
    }
   ],
   "source": [
    "market_price=[(\"apple\",200),(\"banana\",100),('ornage',400)]\n",
    "for fruit,price in market_price:\n",
    "    print(price+(0.1)*price)\n",
    "    "
   ]
  },
  {
   "cell_type": "code",
   "execution_count": 120,
   "id": "e2d24f4b",
   "metadata": {},
   "outputs": [
    {
     "data": {
      "text/plain": [
       "('Swati', 5000)"
      ]
     },
     "execution_count": 120,
     "metadata": {},
     "output_type": "execute_result"
    }
   ],
   "source": [
    "emp_details=[(\"Reena\",4000),(\"Swati\",5000),(\"megha\",2000)]\n",
    "def emp_of_month(emp_details):\n",
    "    current_hrs=0\n",
    "    emp_month=\" \"\n",
    "    for employee,hours in emp_details:\n",
    "        if current_hrs<hours:\n",
    "            current_hrs=hours\n",
    "            emp_month=employee\n",
    "        else:\n",
    "            pass\n",
    "        \n",
    "    return(emp_month,current_hrs)\n",
    "emp_of_month(emp_details)\n",
    "    "
   ]
  },
  {
   "cell_type": "code",
   "execution_count": 3,
   "id": "fdd0accc",
   "metadata": {},
   "outputs": [
    {
     "name": "stdout",
     "output_type": "stream",
     "text": [
      "enter first number5\n",
      "enter first number4\n",
      "5\n"
     ]
    }
   ],
   "source": [
    "a=int(input(\"enter first number\"))\n",
    "b=int(input(\"enter first number\"))\n",
    "def smaller_of_two_number(a,b):\n",
    "    if a%2==0 and b%2==0:\n",
    "        if a<b:\n",
    "            print(a)\n",
    "        else:\n",
    "            pass\n",
    "    else:\n",
    "        if a>b:\n",
    "            print(a)\n",
    "        else:\n",
    "            print(b)\n",
    "smaller_of_two_number(a,b)"
   ]
  },
  {
   "cell_type": "code",
   "execution_count": 14,
   "id": "1053211b",
   "metadata": {},
   "outputs": [
    {
     "name": "stdout",
     "output_type": "stream",
     "text": [
      "Enter two word string :sing song\n"
     ]
    },
    {
     "data": {
      "text/plain": [
       "True"
      ]
     },
     "execution_count": 14,
     "metadata": {},
     "output_type": "execute_result"
    }
   ],
   "source": [
    "str=input(\"Enter two word string :\")\n",
    "def same_string(str):\n",
    "    str.split()\n",
    "    if str[0]==str[0]:\n",
    "        return True\n",
    "    else:\n",
    "        return False\n",
    "    \n",
    "same_string(str)\n",
    "    "
   ]
  },
  {
   "cell_type": "code",
   "execution_count": 12,
   "id": "ba8cdac1",
   "metadata": {},
   "outputs": [
    {
     "data": {
      "text/plain": [
       "['sing song']"
      ]
     },
     "execution_count": 12,
     "metadata": {},
     "output_type": "execute_result"
    }
   ],
   "source": [
    "str"
   ]
  },
  {
   "cell_type": "code",
   "execution_count": 25,
   "id": "25bd7c80",
   "metadata": {},
   "outputs": [
    {
     "name": "stdout",
     "output_type": "stream",
     "text": [
      "enter number23\n",
      "enter number24\n"
     ]
    }
   ],
   "source": [
    "number=[]\n",
    "for num in range(0,2):\n",
    "    num=int(input(\"enter number\"))\n",
    "    number.append(num)\n",
    "#def sum_of_interger(number):\n",
    "    \n",
    "    \n",
    "\n"
   ]
  },
  {
   "cell_type": "markdown",
   "id": "d9941aec",
   "metadata": {},
   "source": [
    "number\n"
   ]
  },
  {
   "cell_type": "raw",
   "id": "7af0280e",
   "metadata": {},
   "source": [
    "number"
   ]
  },
  {
   "cell_type": "code",
   "execution_count": 28,
   "id": "702ddaf1",
   "metadata": {},
   "outputs": [
    {
     "data": {
      "text/plain": [
       "'C:\\\\Users\\\\RT\\\\Untitled Folder'"
      ]
     },
     "execution_count": 28,
     "metadata": {},
     "output_type": "execute_result"
    }
   ],
   "source": [
    "pwd\n"
   ]
  },
  {
   "cell_type": "code",
   "execution_count": null,
   "id": "4c16b8bb",
   "metadata": {},
   "outputs": [],
   "source": []
  }
 ],
 "metadata": {
  "kernelspec": {
   "display_name": "Python 3 (ipykernel)",
   "language": "python",
   "name": "python3"
  },
  "language_info": {
   "codemirror_mode": {
    "name": "ipython",
    "version": 3
   },
   "file_extension": ".py",
   "mimetype": "text/x-python",
   "name": "python",
   "nbconvert_exporter": "python",
   "pygments_lexer": "ipython3",
   "version": "3.9.12"
  }
 },
 "nbformat": 4,
 "nbformat_minor": 5
}
